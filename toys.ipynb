{
  "cells": [
    {
      "cell_type": "code",
      "execution_count": 1,
      "metadata": {
        "id": "_eJbSib7OmVl"
      },
      "outputs": [],
      "source": [
        "import pandas as pd\n",
        "import matplotlib.pyplot as plt\n",
        "import numpy as np\n",
        "plt.rcParams.update({'figure.max_open_warning': 0})\n",
        "import re\n",
        "\n",
        "from sklearn.feature_extraction.text import CountVectorizer\n",
        "from sklearn.metrics.pairwise import cosine_similarity"
      ]
    },
    {
      "cell_type": "code",
      "execution_count": 2,
      "metadata": {
        "id": "dvYdjeazPA1O"
      },
      "outputs": [],
      "source": [
        "toys = pd.read_csv('./amazon_co-ecommerce_sample.csv', engine='python')"
      ]
    },
    {
      "cell_type": "code",
      "execution_count": 3,
      "metadata": {
        "colab": {
          "base_uri": "https://localhost:8080/",
          "height": 591
        },
        "id": "HGw6SpLPPHFE",
        "outputId": "2e3ec73a-487f-40c5-ca73-9e9c0b75aff9"
      },
      "outputs": [
        {
          "data": {
            "text/html": [
              "<div>\n",
              "<style scoped>\n",
              "    .dataframe tbody tr th:only-of-type {\n",
              "        vertical-align: middle;\n",
              "    }\n",
              "\n",
              "    .dataframe tbody tr th {\n",
              "        vertical-align: top;\n",
              "    }\n",
              "\n",
              "    .dataframe thead th {\n",
              "        text-align: right;\n",
              "    }\n",
              "</style>\n",
              "<table border=\"1\" class=\"dataframe\">\n",
              "  <thead>\n",
              "    <tr style=\"text-align: right;\">\n",
              "      <th></th>\n",
              "      <th>uniq_id</th>\n",
              "      <th>product_name</th>\n",
              "      <th>manufacturer</th>\n",
              "      <th>price</th>\n",
              "      <th>number_available_in_stock</th>\n",
              "      <th>number_of_reviews</th>\n",
              "      <th>number_of_answered_questions</th>\n",
              "      <th>average_review_rating</th>\n",
              "      <th>amazon_category_and_sub_category</th>\n",
              "      <th>customers_who_bought_this_item_also_bought</th>\n",
              "      <th>description</th>\n",
              "      <th>product_information</th>\n",
              "      <th>product_description</th>\n",
              "      <th>items_customers_buy_after_viewing_this_item</th>\n",
              "      <th>customer_questions_and_answers</th>\n",
              "      <th>customer_reviews</th>\n",
              "      <th>sellers</th>\n",
              "    </tr>\n",
              "  </thead>\n",
              "  <tbody>\n",
              "    <tr>\n",
              "      <th>0</th>\n",
              "      <td>eac7efa5dbd3d667f26eb3d3ab504464</td>\n",
              "      <td>Hornby 2014 Catalogue</td>\n",
              "      <td>Hornby</td>\n",
              "      <td>£3.42</td>\n",
              "      <td>5 new</td>\n",
              "      <td>15</td>\n",
              "      <td>1.0</td>\n",
              "      <td>4.9 out of 5 stars</td>\n",
              "      <td>Hobbies &gt; Model Trains &amp; Railway Sets &gt; Rail V...</td>\n",
              "      <td>http://www.amazon.co.uk/Hornby-R8150-Catalogue...</td>\n",
              "      <td>Product Description Hornby 2014 Catalogue Box ...</td>\n",
              "      <td>Technical Details Item Weight640 g Product Dim...</td>\n",
              "      <td>Product Description Hornby 2014 Catalogue Box ...</td>\n",
              "      <td>http://www.amazon.co.uk/Hornby-R8150-Catalogue...</td>\n",
              "      <td>Does this catalogue detail all the previous Ho...</td>\n",
              "      <td>Worth Buying For The Pictures Alone (As Ever) ...</td>\n",
              "      <td>{\"seller\"=&gt;[{\"Seller_name_1\"=&gt;\"Amazon.co.uk\", ...</td>\n",
              "    </tr>\n",
              "    <tr>\n",
              "      <th>1</th>\n",
              "      <td>b17540ef7e86e461d37f3ae58b7b72ac</td>\n",
              "      <td>FunkyBuys® Large Christmas Holiday Express Fes...</td>\n",
              "      <td>FunkyBuys</td>\n",
              "      <td>£16.99</td>\n",
              "      <td>NaN</td>\n",
              "      <td>2</td>\n",
              "      <td>1.0</td>\n",
              "      <td>4.5 out of 5 stars</td>\n",
              "      <td>Hobbies &gt; Model Trains &amp; Railway Sets &gt; Rail V...</td>\n",
              "      <td>http://www.amazon.co.uk/Christmas-Holiday-Expr...</td>\n",
              "      <td>Size Name:Large FunkyBuys® Large Christmas Hol...</td>\n",
              "      <td>Technical Details Manufacturer recommended age...</td>\n",
              "      <td>Size Name:Large FunkyBuys® Large Christmas Hol...</td>\n",
              "      <td>http://www.amazon.co.uk/Christmas-Holiday-Expr...</td>\n",
              "      <td>can you turn off sounds // hi no you cant turn...</td>\n",
              "      <td>Four Stars // 4.0 // 18 Dec. 2015 // By\\n    \\...</td>\n",
              "      <td>{\"seller\"=&gt;{\"Seller_name_1\"=&gt;\"UHD WHOLESALE\", ...</td>\n",
              "    </tr>\n",
              "    <tr>\n",
              "      <th>2</th>\n",
              "      <td>348f344247b0c1a935b1223072ef9d8a</td>\n",
              "      <td>CLASSIC TOY TRAIN SET TRACK CARRIAGES LIGHT EN...</td>\n",
              "      <td>ccf</td>\n",
              "      <td>£9.99</td>\n",
              "      <td>2 new</td>\n",
              "      <td>17</td>\n",
              "      <td>2.0</td>\n",
              "      <td>3.9 out of 5 stars</td>\n",
              "      <td>Hobbies &gt; Model Trains &amp; Railway Sets &gt; Rail V...</td>\n",
              "      <td>http://www.amazon.co.uk/Classic-Train-Lights-B...</td>\n",
              "      <td>BIG CLASSIC TOY TRAIN SET TRACK CARRIAGE LIGHT...</td>\n",
              "      <td>Technical Details Manufacturer recommended age...</td>\n",
              "      <td>BIG CLASSIC TOY TRAIN SET TRACK CARRIAGE LIGHT...</td>\n",
              "      <td>http://www.amazon.co.uk/Train-With-Tracks-Batt...</td>\n",
              "      <td>What is the gauge of the track // Hi Paul.Trut...</td>\n",
              "      <td>**Highly Recommended!** // 5.0 // 26 May 2015 ...</td>\n",
              "      <td>{\"seller\"=&gt;[{\"Seller_name_1\"=&gt;\"DEAL-BOX\", \"Sel...</td>\n",
              "    </tr>\n",
              "    <tr>\n",
              "      <th>3</th>\n",
              "      <td>e12b92dbb8eaee78b22965d2a9bbbd9f</td>\n",
              "      <td>HORNBY Coach R4410A BR Hawksworth Corridor 3rd</td>\n",
              "      <td>Hornby</td>\n",
              "      <td>£39.99</td>\n",
              "      <td>NaN</td>\n",
              "      <td>1</td>\n",
              "      <td>2.0</td>\n",
              "      <td>5.0 out of 5 stars</td>\n",
              "      <td>Hobbies &gt; Model Trains &amp; Railway Sets &gt; Rail V...</td>\n",
              "      <td>NaN</td>\n",
              "      <td>Hornby 00 Gauge BR Hawksworth 3rd Class W 2107...</td>\n",
              "      <td>Technical Details Item Weight259 g Product Dim...</td>\n",
              "      <td>Hornby 00 Gauge BR Hawksworth 3rd Class W 2107...</td>\n",
              "      <td>NaN</td>\n",
              "      <td>NaN</td>\n",
              "      <td>I love it // 5.0 // 22 July 2013 // By\\n    \\n...</td>\n",
              "      <td>NaN</td>\n",
              "    </tr>\n",
              "    <tr>\n",
              "      <th>4</th>\n",
              "      <td>e33a9adeed5f36840ccc227db4682a36</td>\n",
              "      <td>Hornby 00 Gauge 0-4-0 Gildenlow Salt Co. Steam...</td>\n",
              "      <td>Hornby</td>\n",
              "      <td>£32.19</td>\n",
              "      <td>NaN</td>\n",
              "      <td>3</td>\n",
              "      <td>2.0</td>\n",
              "      <td>4.7 out of 5 stars</td>\n",
              "      <td>Hobbies &gt; Model Trains &amp; Railway Sets &gt; Rail V...</td>\n",
              "      <td>http://www.amazon.co.uk/Hornby-R6367-RailRoad-...</td>\n",
              "      <td>Product Description Hornby RailRoad 0-4-0 Gild...</td>\n",
              "      <td>Technical Details Item Weight159 g Product Dim...</td>\n",
              "      <td>Product Description Hornby RailRoad 0-4-0 Gild...</td>\n",
              "      <td>http://www.amazon.co.uk/Hornby-R2672-RailRoad-...</td>\n",
              "      <td>NaN</td>\n",
              "      <td>Birthday present // 5.0 // 14 April 2014 // By...</td>\n",
              "      <td>NaN</td>\n",
              "    </tr>\n",
              "  </tbody>\n",
              "</table>\n",
              "</div>"
            ],
            "text/plain": [
              "                            uniq_id  \\\n",
              "0  eac7efa5dbd3d667f26eb3d3ab504464   \n",
              "1  b17540ef7e86e461d37f3ae58b7b72ac   \n",
              "2  348f344247b0c1a935b1223072ef9d8a   \n",
              "3  e12b92dbb8eaee78b22965d2a9bbbd9f   \n",
              "4  e33a9adeed5f36840ccc227db4682a36   \n",
              "\n",
              "                                        product_name manufacturer   price  \\\n",
              "0                              Hornby 2014 Catalogue       Hornby   £3.42   \n",
              "1  FunkyBuys® Large Christmas Holiday Express Fes...    FunkyBuys  £16.99   \n",
              "2  CLASSIC TOY TRAIN SET TRACK CARRIAGES LIGHT EN...          ccf   £9.99   \n",
              "3     HORNBY Coach R4410A BR Hawksworth Corridor 3rd       Hornby  £39.99   \n",
              "4  Hornby 00 Gauge 0-4-0 Gildenlow Salt Co. Steam...       Hornby  £32.19   \n",
              "\n",
              "  number_available_in_stock number_of_reviews  number_of_answered_questions  \\\n",
              "0                     5 new                15                           1.0   \n",
              "1                       NaN                 2                           1.0   \n",
              "2                     2 new                17                           2.0   \n",
              "3                       NaN                 1                           2.0   \n",
              "4                       NaN                 3                           2.0   \n",
              "\n",
              "  average_review_rating                   amazon_category_and_sub_category  \\\n",
              "0    4.9 out of 5 stars  Hobbies > Model Trains & Railway Sets > Rail V...   \n",
              "1    4.5 out of 5 stars  Hobbies > Model Trains & Railway Sets > Rail V...   \n",
              "2    3.9 out of 5 stars  Hobbies > Model Trains & Railway Sets > Rail V...   \n",
              "3    5.0 out of 5 stars  Hobbies > Model Trains & Railway Sets > Rail V...   \n",
              "4    4.7 out of 5 stars  Hobbies > Model Trains & Railway Sets > Rail V...   \n",
              "\n",
              "          customers_who_bought_this_item_also_bought  \\\n",
              "0  http://www.amazon.co.uk/Hornby-R8150-Catalogue...   \n",
              "1  http://www.amazon.co.uk/Christmas-Holiday-Expr...   \n",
              "2  http://www.amazon.co.uk/Classic-Train-Lights-B...   \n",
              "3                                                NaN   \n",
              "4  http://www.amazon.co.uk/Hornby-R6367-RailRoad-...   \n",
              "\n",
              "                                         description  \\\n",
              "0  Product Description Hornby 2014 Catalogue Box ...   \n",
              "1  Size Name:Large FunkyBuys® Large Christmas Hol...   \n",
              "2  BIG CLASSIC TOY TRAIN SET TRACK CARRIAGE LIGHT...   \n",
              "3  Hornby 00 Gauge BR Hawksworth 3rd Class W 2107...   \n",
              "4  Product Description Hornby RailRoad 0-4-0 Gild...   \n",
              "\n",
              "                                 product_information  \\\n",
              "0  Technical Details Item Weight640 g Product Dim...   \n",
              "1  Technical Details Manufacturer recommended age...   \n",
              "2  Technical Details Manufacturer recommended age...   \n",
              "3  Technical Details Item Weight259 g Product Dim...   \n",
              "4  Technical Details Item Weight159 g Product Dim...   \n",
              "\n",
              "                                 product_description  \\\n",
              "0  Product Description Hornby 2014 Catalogue Box ...   \n",
              "1  Size Name:Large FunkyBuys® Large Christmas Hol...   \n",
              "2  BIG CLASSIC TOY TRAIN SET TRACK CARRIAGE LIGHT...   \n",
              "3  Hornby 00 Gauge BR Hawksworth 3rd Class W 2107...   \n",
              "4  Product Description Hornby RailRoad 0-4-0 Gild...   \n",
              "\n",
              "         items_customers_buy_after_viewing_this_item  \\\n",
              "0  http://www.amazon.co.uk/Hornby-R8150-Catalogue...   \n",
              "1  http://www.amazon.co.uk/Christmas-Holiday-Expr...   \n",
              "2  http://www.amazon.co.uk/Train-With-Tracks-Batt...   \n",
              "3                                                NaN   \n",
              "4  http://www.amazon.co.uk/Hornby-R2672-RailRoad-...   \n",
              "\n",
              "                      customer_questions_and_answers  \\\n",
              "0  Does this catalogue detail all the previous Ho...   \n",
              "1  can you turn off sounds // hi no you cant turn...   \n",
              "2  What is the gauge of the track // Hi Paul.Trut...   \n",
              "3                                                NaN   \n",
              "4                                                NaN   \n",
              "\n",
              "                                    customer_reviews  \\\n",
              "0  Worth Buying For The Pictures Alone (As Ever) ...   \n",
              "1  Four Stars // 4.0 // 18 Dec. 2015 // By\\n    \\...   \n",
              "2  **Highly Recommended!** // 5.0 // 26 May 2015 ...   \n",
              "3  I love it // 5.0 // 22 July 2013 // By\\n    \\n...   \n",
              "4  Birthday present // 5.0 // 14 April 2014 // By...   \n",
              "\n",
              "                                             sellers  \n",
              "0  {\"seller\"=>[{\"Seller_name_1\"=>\"Amazon.co.uk\", ...  \n",
              "1  {\"seller\"=>{\"Seller_name_1\"=>\"UHD WHOLESALE\", ...  \n",
              "2  {\"seller\"=>[{\"Seller_name_1\"=>\"DEAL-BOX\", \"Sel...  \n",
              "3                                                NaN  \n",
              "4                                                NaN  "
            ]
          },
          "execution_count": 3,
          "metadata": {},
          "output_type": "execute_result"
        }
      ],
      "source": [
        "toys.head()"
      ]
    },
    {
      "cell_type": "code",
      "execution_count": 4,
      "metadata": {
        "colab": {
          "base_uri": "https://localhost:8080/"
        },
        "id": "3Nj_gvQDQG-t",
        "outputId": "e9b41d2c-d988-4662-c54d-bd7de6eb5dfe"
      },
      "outputs": [
        {
          "data": {
            "text/plain": [
              "(10000, 17)"
            ]
          },
          "execution_count": 4,
          "metadata": {},
          "output_type": "execute_result"
        }
      ],
      "source": [
        "toys.shape"
      ]
    },
    {
      "cell_type": "code",
      "execution_count": 5,
      "metadata": {
        "colab": {
          "base_uri": "https://localhost:8080/"
        },
        "id": "0FdhWm2UQKTl",
        "outputId": "9563cca5-bc0f-4d28-a610-7166d192240a"
      },
      "outputs": [
        {
          "name": "stdout",
          "output_type": "stream",
          "text": [
            "<class 'pandas.core.frame.DataFrame'>\n",
            "RangeIndex: 10000 entries, 0 to 9999\n",
            "Data columns (total 17 columns):\n",
            " #   Column                                       Non-Null Count  Dtype  \n",
            "---  ------                                       --------------  -----  \n",
            " 0   uniq_id                                      10000 non-null  object \n",
            " 1   product_name                                 10000 non-null  object \n",
            " 2   manufacturer                                 9993 non-null   object \n",
            " 3   price                                        8565 non-null   object \n",
            " 4   number_available_in_stock                    7500 non-null   object \n",
            " 5   number_of_reviews                            9982 non-null   object \n",
            " 6   number_of_answered_questions                 9235 non-null   float64\n",
            " 7   average_review_rating                        9982 non-null   object \n",
            " 8   amazon_category_and_sub_category             9310 non-null   object \n",
            " 9   customers_who_bought_this_item_also_bought   8938 non-null   object \n",
            " 10  description                                  9349 non-null   object \n",
            " 11  product_information                          9942 non-null   object \n",
            " 12  product_description                          9349 non-null   object \n",
            " 13  items_customers_buy_after_viewing_this_item  6935 non-null   object \n",
            " 14  customer_questions_and_answers               914 non-null    object \n",
            " 15  customer_reviews                             9979 non-null   object \n",
            " 16  sellers                                      6918 non-null   object \n",
            "dtypes: float64(1), object(16)\n",
            "memory usage: 1.3+ MB\n"
          ]
        }
      ],
      "source": [
        "toys.info()"
      ]
    },
    {
      "cell_type": "code",
      "execution_count": 6,
      "metadata": {
        "colab": {
          "base_uri": "https://localhost:8080/"
        },
        "id": "uDeZZ5g2SmJd",
        "outputId": "b4713cb0-71fb-4a10-b59c-a7287c571e75"
      },
      "outputs": [
        {
          "name": "stdout",
          "output_type": "stream",
          "text": [
            "<class 'pandas.core.frame.DataFrame'>\n",
            "RangeIndex: 10000 entries, 0 to 9999\n",
            "Data columns (total 17 columns):\n",
            " #   Column                                       Non-Null Count  Dtype  \n",
            "---  ------                                       --------------  -----  \n",
            " 0   uniq_id                                      10000 non-null  object \n",
            " 1   product_name                                 10000 non-null  object \n",
            " 2   manufacturer                                 9993 non-null   object \n",
            " 3   price                                        8565 non-null   object \n",
            " 4   number_available_in_stock                    7500 non-null   object \n",
            " 5   number_of_reviews                            9982 non-null   object \n",
            " 6   number_of_answered_questions                 9235 non-null   float64\n",
            " 7   average_review_rating                        9982 non-null   object \n",
            " 8   amazon_category_and_sub_category             9310 non-null   object \n",
            " 9   customers_who_bought_this_item_also_bought   8938 non-null   object \n",
            " 10  description                                  9349 non-null   object \n",
            " 11  product_information                          9942 non-null   object \n",
            " 12  product_description                          9349 non-null   object \n",
            " 13  items_customers_buy_after_viewing_this_item  6935 non-null   object \n",
            " 14  customer_questions_and_answers               914 non-null    object \n",
            " 15  customer_reviews                             9979 non-null   object \n",
            " 16  sellers                                      6918 non-null   object \n",
            "dtypes: float64(1), object(16)\n",
            "memory usage: 43.1 MB\n"
          ]
        }
      ],
      "source": [
        "toys.info(memory_usage='deep')"
      ]
    },
    {
      "cell_type": "code",
      "execution_count": 7,
      "metadata": {
        "id": "xJIr-Sv1SQGp"
      },
      "outputs": [],
      "source": [
        "toys.drop(['customers_who_bought_this_item_also_bought','items_customers_buy_after_viewing_this_item','customer_questions_and_answers','customer_reviews','sellers','product_description'], axis=1, inplace=True)\n",
        "toys.dropna(subset=['price', 'average_review_rating', 'amazon_category_and_sub_category'], inplace=True)"
      ]
    },
    {
      "cell_type": "code",
      "execution_count": 8,
      "metadata": {
        "id": "s1bmZEB1UsYG"
      },
      "outputs": [],
      "source": [
        "def process_price(price_str):\n",
        "    # Если значение является числом, то просто возвращаем его\n",
        "    if isinstance(price_str, float):\n",
        "        return price_str\n",
        "\n",
        "    # Заменяем символы, которые могут помешать преобразованию в число\n",
        "    price_str = price_str.replace('£', '').replace(',', '').strip()\n",
        "\n",
        "    # Если строка содержит диапазон цен, то возвращаем среднее значение\n",
        "    if '-' in price_str:\n",
        "        min_price, max_price = price_str.split('-')\n",
        "        return (float(min_price.strip()) + float(max_price.strip())) / 2\n",
        "    else:\n",
        "        return float(price_str)\n",
        "\n",
        "# Применяем функцию к столбцу price\n",
        "toys['price'] = toys['price'].apply(process_price)"
      ]
    },
    {
      "cell_type": "code",
      "execution_count": 9,
      "metadata": {
        "id": "2VaK-eMNUuK_"
      },
      "outputs": [],
      "source": [
        "toys['average_review_rating'] = toys['average_review_rating'].str.extract(r'(\\d+\\.\\d+|\\d+)').astype(float)"
      ]
    },
    {
      "cell_type": "code",
      "execution_count": 10,
      "metadata": {
        "id": "UKR9-zgWUvV2"
      },
      "outputs": [
        {
          "name": "stderr",
          "output_type": "stream",
          "text": [
            "/var/folders/9q/sk_9949x0gx4j154w_3t50ww0000gn/T/ipykernel_24340/4066185440.py:1: FutureWarning: A value is trying to be set on a copy of a DataFrame or Series through chained assignment using an inplace method.\n",
            "The behavior will change in pandas 3.0. This inplace method will never work because the intermediate object on which we are setting values always behaves as a copy.\n",
            "\n",
            "For example, when doing 'df[col].method(value, inplace=True)', try using 'df.method({col: value}, inplace=True)' or df[col] = df[col].method(value) instead, to perform the operation inplace on the original object.\n",
            "\n",
            "\n",
            "  toys['number_available_in_stock'].fillna('0', inplace=True)\n"
          ]
        }
      ],
      "source": [
        "toys['number_available_in_stock'].fillna('0', inplace=True)\n",
        "toys['number_available_in_stock'] = toys['number_available_in_stock'].str.extract(r'(\\d+)').astype(int)"
      ]
    },
    {
      "cell_type": "code",
      "execution_count": 11,
      "metadata": {
        "id": "n7Smznh4Uwjf"
      },
      "outputs": [],
      "source": [
        "toys['number_of_reviews'] = toys['number_of_reviews'].apply(lambda x: re.sub(r'\\D', '', x)).astype(int)"
      ]
    },
    {
      "cell_type": "code",
      "execution_count": 12,
      "metadata": {
        "id": "-knOkuKXXLqc"
      },
      "outputs": [
        {
          "name": "stderr",
          "output_type": "stream",
          "text": [
            "/var/folders/9q/sk_9949x0gx4j154w_3t50ww0000gn/T/ipykernel_24340/2650461214.py:1: FutureWarning: A value is trying to be set on a copy of a DataFrame or Series through chained assignment using an inplace method.\n",
            "The behavior will change in pandas 3.0. This inplace method will never work because the intermediate object on which we are setting values always behaves as a copy.\n",
            "\n",
            "For example, when doing 'df[col].method(value, inplace=True)', try using 'df.method({col: value}, inplace=True)' or df[col] = df[col].method(value) instead, to perform the operation inplace on the original object.\n",
            "\n",
            "\n",
            "  toys['number_of_answered_questions'].fillna(0, inplace=True)\n"
          ]
        }
      ],
      "source": [
        "toys['number_of_answered_questions'].fillna(0, inplace=True)\n",
        "toys['number_of_answered_questions'] = toys['number_of_answered_questions'].astype(int)"
      ]
    },
    {
      "cell_type": "code",
      "execution_count": 13,
      "metadata": {
        "colab": {
          "base_uri": "https://localhost:8080/"
        },
        "id": "_vqTK-TzQRAg",
        "outputId": "30006837-d877-4d8c-a9bb-c6194cd488bc"
      },
      "outputs": [
        {
          "data": {
            "text/plain": [
              "uniq_id                               0\n",
              "product_name                          0\n",
              "manufacturer                          3\n",
              "price                                 0\n",
              "number_available_in_stock             0\n",
              "number_of_reviews                     0\n",
              "number_of_answered_questions          0\n",
              "average_review_rating                 0\n",
              "amazon_category_and_sub_category      0\n",
              "description                         526\n",
              "product_information                  52\n",
              "dtype: int64"
            ]
          },
          "execution_count": 13,
          "metadata": {},
          "output_type": "execute_result"
        }
      ],
      "source": [
        "toys.isna().sum()"
      ]
    },
    {
      "cell_type": "code",
      "execution_count": 14,
      "metadata": {
        "id": "i88k0aZfQc9z"
      },
      "outputs": [
        {
          "name": "stderr",
          "output_type": "stream",
          "text": [
            "/var/folders/9q/sk_9949x0gx4j154w_3t50ww0000gn/T/ipykernel_24340/3686858813.py:1: FutureWarning: A value is trying to be set on a copy of a DataFrame or Series through chained assignment using an inplace method.\n",
            "The behavior will change in pandas 3.0. This inplace method will never work because the intermediate object on which we are setting values always behaves as a copy.\n",
            "\n",
            "For example, when doing 'df[col].method(value, inplace=True)', try using 'df.method({col: value}, inplace=True)' or df[col] = df[col].method(value) instead, to perform the operation inplace on the original object.\n",
            "\n",
            "\n",
            "  toys['manufacturer'].fillna('not specified', inplace=True)\n",
            "/var/folders/9q/sk_9949x0gx4j154w_3t50ww0000gn/T/ipykernel_24340/3686858813.py:2: FutureWarning: A value is trying to be set on a copy of a DataFrame or Series through chained assignment using an inplace method.\n",
            "The behavior will change in pandas 3.0. This inplace method will never work because the intermediate object on which we are setting values always behaves as a copy.\n",
            "\n",
            "For example, when doing 'df[col].method(value, inplace=True)', try using 'df.method({col: value}, inplace=True)' or df[col] = df[col].method(value) instead, to perform the operation inplace on the original object.\n",
            "\n",
            "\n",
            "  toys['description'].fillna('not specified', inplace=True)\n",
            "/var/folders/9q/sk_9949x0gx4j154w_3t50ww0000gn/T/ipykernel_24340/3686858813.py:3: FutureWarning: A value is trying to be set on a copy of a DataFrame or Series through chained assignment using an inplace method.\n",
            "The behavior will change in pandas 3.0. This inplace method will never work because the intermediate object on which we are setting values always behaves as a copy.\n",
            "\n",
            "For example, when doing 'df[col].method(value, inplace=True)', try using 'df.method({col: value}, inplace=True)' or df[col] = df[col].method(value) instead, to perform the operation inplace on the original object.\n",
            "\n",
            "\n",
            "  toys['product_information'].fillna('not specified', inplace=True)\n"
          ]
        }
      ],
      "source": [
        "toys['manufacturer'].fillna('not specified', inplace=True)\n",
        "toys['description'].fillna('not specified', inplace=True)\n",
        "toys['product_information'].fillna('not specified', inplace=True)"
      ]
    },
    {
      "cell_type": "code",
      "execution_count": 15,
      "metadata": {
        "id": "Zk3XonqLY-Sn"
      },
      "outputs": [],
      "source": [
        "toys.drop(['uniq_id'], axis=1, inplace=True)\n",
        "toys.reset_index(drop=True, inplace=True)\n",
        "toys['id'] = toys.index + 1"
      ]
    },
    {
      "cell_type": "code",
      "execution_count": 16,
      "metadata": {
        "colab": {
          "base_uri": "https://localhost:8080/"
        },
        "id": "J9R5e55gRkdx",
        "outputId": "9346b294-0295-4f9c-9ab2-edeafeb9d7b8"
      },
      "outputs": [
        {
          "data": {
            "text/plain": [
              "0"
            ]
          },
          "execution_count": 16,
          "metadata": {},
          "output_type": "execute_result"
        }
      ],
      "source": [
        "toys.duplicated().sum()"
      ]
    },
    {
      "cell_type": "code",
      "execution_count": 17,
      "metadata": {
        "colab": {
          "base_uri": "https://localhost:8080/"
        },
        "id": "dtEoA8dNRn3-",
        "outputId": "33c58fb3-2799-4d19-f6c1-b4c47cbf333a"
      },
      "outputs": [
        {
          "name": "stdout",
          "output_type": "stream",
          "text": [
            "<class 'pandas.core.frame.DataFrame'>\n",
            "RangeIndex: 8003 entries, 0 to 8002\n",
            "Data columns (total 11 columns):\n",
            " #   Column                            Non-Null Count  Dtype  \n",
            "---  ------                            --------------  -----  \n",
            " 0   product_name                      8003 non-null   object \n",
            " 1   manufacturer                      8003 non-null   object \n",
            " 2   price                             8003 non-null   float64\n",
            " 3   number_available_in_stock         8003 non-null   int64  \n",
            " 4   number_of_reviews                 8003 non-null   int64  \n",
            " 5   number_of_answered_questions      8003 non-null   int64  \n",
            " 6   average_review_rating             8003 non-null   float64\n",
            " 7   amazon_category_and_sub_category  8003 non-null   object \n",
            " 8   description                       8003 non-null   object \n",
            " 9   product_information               8003 non-null   object \n",
            " 10  id                                8003 non-null   int64  \n",
            "dtypes: float64(2), int64(4), object(5)\n",
            "memory usage: 20.0 MB\n"
          ]
        }
      ],
      "source": [
        "toys.info(memory_usage='deep')"
      ]
    },
    {
      "cell_type": "code",
      "execution_count": 18,
      "metadata": {
        "id": "kW14rvDYVxWP"
      },
      "outputs": [],
      "source": [
        "for col in toys.select_dtypes(include=['float64']).columns:\n",
        "    toys[col] = pd.to_numeric(toys[col], downcast='float')"
      ]
    },
    {
      "cell_type": "code",
      "execution_count": 19,
      "metadata": {
        "id": "DG9PEA6yWCmr"
      },
      "outputs": [],
      "source": [
        "for col in toys.select_dtypes(include=['int64']).columns:\n",
        "    toys[col] = pd.to_numeric(toys[col], downcast='integer')"
      ]
    },
    {
      "cell_type": "code",
      "execution_count": 20,
      "metadata": {
        "id": "nZ-OvX3_Xc1Q"
      },
      "outputs": [],
      "source": [
        "for col in toys.select_dtypes(include=['object']).columns:\n",
        "    if len(toys[col].unique()) / len(toys[col]) < 0.5:\n",
        "        toys[col] = toys[col].astype('category')"
      ]
    },
    {
      "cell_type": "code",
      "execution_count": 21,
      "metadata": {
        "colab": {
          "base_uri": "https://localhost:8080/"
        },
        "id": "wNlaRFHdR15r",
        "outputId": "b352fb44-bda7-4ecd-ef26-40d88541dd01"
      },
      "outputs": [
        {
          "name": "stdout",
          "output_type": "stream",
          "text": [
            "<class 'pandas.core.frame.DataFrame'>\n",
            "RangeIndex: 8003 entries, 0 to 8002\n",
            "Data columns (total 11 columns):\n",
            " #   Column                            Non-Null Count  Dtype   \n",
            "---  ------                            --------------  -----   \n",
            " 0   product_name                      8003 non-null   object  \n",
            " 1   manufacturer                      8003 non-null   category\n",
            " 2   price                             8003 non-null   float32 \n",
            " 3   number_available_in_stock         8003 non-null   int8    \n",
            " 4   number_of_reviews                 8003 non-null   int16   \n",
            " 5   number_of_answered_questions      8003 non-null   int8    \n",
            " 6   average_review_rating             8003 non-null   float32 \n",
            " 7   amazon_category_and_sub_category  8003 non-null   category\n",
            " 8   description                       8003 non-null   object  \n",
            " 9   product_information               8003 non-null   object  \n",
            " 10  id                                8003 non-null   int16   \n",
            "dtypes: category(2), float32(2), int16(2), int8(2), object(3)\n",
            "memory usage: 18.8 MB\n"
          ]
        }
      ],
      "source": [
        "toys.info(memory_usage='deep')"
      ]
    },
    {
      "cell_type": "code",
      "execution_count": 22,
      "metadata": {
        "id": "1JCpI4GWafrd"
      },
      "outputs": [],
      "source": [
        "text_fields = ['product_name', 'description', 'product_information', 'manufacturer', 'amazon_category_and_sub_category']\n",
        "toys['combined'] = toys[text_fields].apply(lambda row: ' '.join(row), axis=1)\n",
        "\n",
        "# Создание CountVectorizer для преобразования текста в мешок слов\n",
        "cv = CountVectorizer(encoding='utf-8')\n",
        "vectors = cv.fit_transform(toys['combined'].values.astype('U'))\n",
        "\n",
        "# Вычисление матрицы схожести с использованием косинусного сходства\n",
        "similarity = cosine_similarity(vectors)"
      ]
    },
    {
      "cell_type": "code",
      "execution_count": 23,
      "metadata": {
        "colab": {
          "base_uri": "https://localhost:8080/"
        },
        "id": "l7pffXwkbUkq",
        "outputId": "3aa699e7-b0fd-44ab-8fea-9913576c60ca"
      },
      "outputs": [
        {
          "data": {
            "text/plain": [
              "array([[1.        , 0.48243359, 0.54856754, ..., 0.45070801, 0.41556297,\n",
              "        0.559738  ],\n",
              "       [0.48243359, 1.        , 0.5723141 , ..., 0.33061386, 0.311627  ,\n",
              "        0.34024588],\n",
              "       [0.54856754, 0.5723141 , 1.        , ..., 0.38454966, 0.39441596,\n",
              "        0.42873245],\n",
              "       ...,\n",
              "       [0.45070801, 0.33061386, 0.38454966, ..., 1.        , 0.47601011,\n",
              "        0.54487345],\n",
              "       [0.41556297, 0.311627  , 0.39441596, ..., 0.47601011, 1.        ,\n",
              "        0.45081074],\n",
              "       [0.559738  , 0.34024588, 0.42873245, ..., 0.54487345, 0.45081074,\n",
              "        1.        ]])"
            ]
          },
          "execution_count": 23,
          "metadata": {},
          "output_type": "execute_result"
        }
      ],
      "source": [
        "similarity"
      ]
    },
    {
      "cell_type": "code",
      "execution_count": 24,
      "metadata": {
        "id": "D2Iq4aKNcYK1"
      },
      "outputs": [],
      "source": [
        "def recommend(toy, weight_similarity=0.8, weight_price=0.1, weight_reviews=0.1):\n",
        "    if toy in toys['product_name'].values:\n",
        "        toy_index = toys[toys['product_name'] == toy].index[0]\n",
        "        distances = similarity[toy_index]\n",
        "\n",
        "        # Invert distances to similarity scores and normalize them\n",
        "        max_similarity = max(distances)\n",
        "        normalized_similarity = [d / max_similarity for d in distances]\n",
        "\n",
        "        # Calculate scaled scores for price and number of reviews\n",
        "        max_price = toys['price'].max()\n",
        "        scaled_prices = 1 - (toys['price'] / max_price).values  # Convert Series to numpy array\n",
        "\n",
        "        max_reviews = toys['number_of_reviews'].max()\n",
        "        scaled_reviews = (toys['number_of_reviews'] / max_reviews).values  # Convert Series to numpy array\n",
        "\n",
        "        # Combine similarity scores and feature scores with weights\n",
        "        if len(normalized_similarity) == len(scaled_prices) == len(scaled_reviews):\n",
        "            combined_scores = (weight_similarity * np.array(normalized_similarity) +\n",
        "                               weight_price * np.array(scaled_prices) +\n",
        "                               weight_reviews * np.array(scaled_reviews))\n",
        "        else:\n",
        "            return \"Lengths of arrays are not consistent\"\n",
        "\n",
        "        # Find indices of top similar toys\n",
        "        toy_list = sorted(list(enumerate(combined_scores)), reverse=True, key=lambda x: x[1])[0:15]\n",
        "\n",
        "        return toy_list\n",
        "    else:\n",
        "        return \"Toy not found in the dataset\"\n"
      ]
    },
    {
      "cell_type": "code",
      "execution_count": 30,
      "metadata": {
        "colab": {
          "base_uri": "https://localhost:8080/"
        },
        "id": "aDBaOgJ0cpGF",
        "outputId": "4e6b554e-a209-4812-a26f-df909ee543be"
      },
      "outputs": [
        {
          "data": {
            "text/plain": [
              "[(2806, 0.8988013582923227),\n",
              " (4660, 0.6988115122216302),\n",
              " (2824, 0.6980877584706902),\n",
              " (2832, 0.6836348292010891),\n",
              " (2745, 0.6763368223396152),\n",
              " (2801, 0.675488669881356),\n",
              " (2800, 0.6729440736604646),\n",
              " (2804, 0.6718373042439417),\n",
              " (2739, 0.6714224496278942),\n",
              " (2792, 0.6683866907655825),\n",
              " (2736, 0.6665876747336351),\n",
              " (2760, 0.6661193170182408),\n",
              " (2721, 0.6607140441866955),\n",
              " (2819, 0.6591916627464873),\n",
              " (2766, 0.656663787445663)]"
            ]
          },
          "execution_count": 30,
          "metadata": {},
          "output_type": "execute_result"
        }
      ],
      "source": [
        "recommend('Trumpeter 1:35 - Type 82 JASDF 6x6 Command Post')"
      ]
    },
    {
      "cell_type": "code",
      "execution_count": 26,
      "metadata": {},
      "outputs": [],
      "source": [
        "toys.to_csv('./toys.csv', index=False)"
      ]
    }
  ],
  "metadata": {
    "colab": {
      "provenance": []
    },
    "kernelspec": {
      "display_name": "Python 3",
      "name": "python3"
    },
    "language_info": {
      "codemirror_mode": {
        "name": "ipython",
        "version": 3
      },
      "file_extension": ".py",
      "mimetype": "text/x-python",
      "name": "python",
      "nbconvert_exporter": "python",
      "pygments_lexer": "ipython3",
      "version": "3.12.1"
    }
  },
  "nbformat": 4,
  "nbformat_minor": 0
}
